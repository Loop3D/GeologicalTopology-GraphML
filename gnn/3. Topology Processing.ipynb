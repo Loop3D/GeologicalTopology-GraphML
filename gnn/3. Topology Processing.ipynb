{
 "cells": [
  {
   "cell_type": "code",
   "execution_count": 1,
   "metadata": {},
   "outputs": [
    {
     "name": "stderr",
     "output_type": "stream",
     "text": [
      "/home/yohan/.miniconda3/envs/hons/lib/python3.7/site-packages/pyproj/crs/crs.py:280: FutureWarning: '+init=<authority>:<code>' syntax is deprecated. '<authority>:<code>' is the preferred initialization method. When making the change, be mindful of axis order changes: https://pyproj4.github.io/pyproj/stable/gotchas.html#axis-order-changes-in-proj-6\n",
      "  projstring = _prepare_from_string(projparams)\n"
     ]
    }
   ],
   "source": [
    "import pickle\n",
    "\n",
    "proj = \"\"\n",
    "with open('wa-part-proj.pkl', 'rb') as handle:\n",
    "    proj = pickle.load(handle)"
   ]
  },
  {
   "cell_type": "code",
   "execution_count": null,
   "metadata": {},
   "outputs": [
    {
     "name": "stderr",
     "output_type": "stream",
     "text": [
      "\r",
      "  0%|          | 0/100 [00:00<?, ?it/s]"
     ]
    }
   ],
   "source": [
    "proj.run()"
   ]
  },
  {
   "cell_type": "code",
   "execution_count": 6,
   "metadata": {},
   "outputs": [],
   "source": [
    "geol = proj.config.geology\n",
    "c_l = proj.config.c_l"
   ]
  },
  {
   "cell_type": "code",
   "execution_count": 4,
   "metadata": {},
   "outputs": [
    {
     "name": "stdout",
     "output_type": "stream",
     "text": [
      "0\n"
     ]
    }
   ],
   "source": [
    "# geol.fillna()\n",
    "\n",
    "for rows in geol.iterrows():\n",
    "    try:\n",
    "        min_age = float(rows[1][c_l[\"min\"]])\n",
    "    except Exception as e:\n",
    "        rows[1][c_l[\"min\"]] = 0\n",
    "        print(rows[1][c_l[\"min\"]])\n",
    "    \n",
    "    try:\n",
    "        max_age = float(rows[1][c_l[\"max\"]])\n",
    "    except Exception as e:\n",
    "        rows[1][c_l[\"max\"]] = 0\n",
    "        print(rows[1][c_l[\"max\"]])\n",
    "        \n",
    "    \n",
    "\n",
    "\n",
    "# for val in geol[proj.config.c_l[\"min\"]]:\n",
    "#     try:\n",
    "#         num = float(val)\n",
    "#     except Exception as e:\n",
    "#         print(e)"
   ]
  },
  {
   "cell_type": "code",
   "execution_count": 6,
   "metadata": {},
   "outputs": [
    {
     "ename": "AttributeError",
     "evalue": "'Series' object has no attribute 'applymap'",
     "output_type": "error",
     "traceback": [
      "\u001b[0;31m-------------------------------------------------------------------------\u001b[0m",
      "\u001b[0;31mAttributeError\u001b[0m                          Traceback (most recent call last)",
      "\u001b[0;32m<ipython-input-6-948c438d27a6>\u001b[0m in \u001b[0;36m<module>\u001b[0;34m\u001b[0m\n\u001b[0;32m----> 1\u001b[0;31m \u001b[0mgeol\u001b[0m\u001b[0;34m[\u001b[0m\u001b[0mc_l\u001b[0m\u001b[0;34m[\u001b[0m\u001b[0;34m'min'\u001b[0m\u001b[0;34m]\u001b[0m\u001b[0;34m]\u001b[0m\u001b[0;34m.\u001b[0m\u001b[0mapplymap\u001b[0m\u001b[0;34m(\u001b[0m\u001b[0mfloat\u001b[0m\u001b[0;34m(\u001b[0m\u001b[0mx\u001b[0m\u001b[0;34m)\u001b[0m\u001b[0;34m)\u001b[0m\u001b[0;34m\u001b[0m\u001b[0;34m\u001b[0m\u001b[0m\n\u001b[0m",
      "\u001b[0;32m~/miniconda3/envs/hons/lib/python3.7/site-packages/pandas/core/generic.py\u001b[0m in \u001b[0;36m__getattr__\u001b[0;34m(self, name)\u001b[0m\n\u001b[1;32m   5137\u001b[0m             \u001b[0;32mif\u001b[0m \u001b[0mself\u001b[0m\u001b[0;34m.\u001b[0m\u001b[0m_info_axis\u001b[0m\u001b[0;34m.\u001b[0m\u001b[0m_can_hold_identifiers_and_holds_name\u001b[0m\u001b[0;34m(\u001b[0m\u001b[0mname\u001b[0m\u001b[0;34m)\u001b[0m\u001b[0;34m:\u001b[0m\u001b[0;34m\u001b[0m\u001b[0;34m\u001b[0m\u001b[0m\n\u001b[1;32m   5138\u001b[0m                 \u001b[0;32mreturn\u001b[0m \u001b[0mself\u001b[0m\u001b[0;34m[\u001b[0m\u001b[0mname\u001b[0m\u001b[0;34m]\u001b[0m\u001b[0;34m\u001b[0m\u001b[0;34m\u001b[0m\u001b[0m\n\u001b[0;32m-> 5139\u001b[0;31m             \u001b[0;32mreturn\u001b[0m \u001b[0mobject\u001b[0m\u001b[0;34m.\u001b[0m\u001b[0m__getattribute__\u001b[0m\u001b[0;34m(\u001b[0m\u001b[0mself\u001b[0m\u001b[0;34m,\u001b[0m \u001b[0mname\u001b[0m\u001b[0;34m)\u001b[0m\u001b[0;34m\u001b[0m\u001b[0;34m\u001b[0m\u001b[0m\n\u001b[0m\u001b[1;32m   5140\u001b[0m \u001b[0;34m\u001b[0m\u001b[0m\n\u001b[1;32m   5141\u001b[0m     \u001b[0;32mdef\u001b[0m \u001b[0m__setattr__\u001b[0m\u001b[0;34m(\u001b[0m\u001b[0mself\u001b[0m\u001b[0;34m,\u001b[0m \u001b[0mname\u001b[0m\u001b[0;34m:\u001b[0m \u001b[0mstr\u001b[0m\u001b[0;34m,\u001b[0m \u001b[0mvalue\u001b[0m\u001b[0;34m)\u001b[0m \u001b[0;34m->\u001b[0m \u001b[0;32mNone\u001b[0m\u001b[0;34m:\u001b[0m\u001b[0;34m\u001b[0m\u001b[0;34m\u001b[0m\u001b[0m\n",
      "\u001b[0;31mAttributeError\u001b[0m: 'Series' object has no attribute 'applymap'"
     ]
    }
   ],
   "source": [
    "geol[c_l['min']].applymap(float(x))"
   ]
  },
  {
   "cell_type": "code",
   "execution_count": 21,
   "metadata": {},
   "outputs": [],
   "source": [
    "import geopandas as gpd\n",
    "import pandas as pd"
   ]
  },
  {
   "cell_type": "code",
   "execution_count": 22,
   "metadata": {},
   "outputs": [],
   "source": [
    "geol_clip = gpd.read_file(\"./model-test/tmp/geol_clip.shp\")"
   ]
  },
  {
   "cell_type": "code",
   "execution_count": 15,
   "metadata": {},
   "outputs": [],
   "source": [
    "min_ = pd.to_numeric(geol_clip[c_l['min']], errors='coerce')\n",
    "max_ = pd.to_numeric(geol_clip[c_l['max']], errors='coerce')"
   ]
  },
  {
   "cell_type": "code",
   "execution_count": 20,
   "metadata": {},
   "outputs": [],
   "source": [
    "for val in min_:\n",
    "    try:\n",
    "        flt = float(val)\n",
    "    except Exception as e:\n",
    "        print(e)"
   ]
  },
  {
   "cell_type": "code",
   "execution_count": 28,
   "metadata": {},
   "outputs": [
    {
     "data": {
      "text/html": [
       "<div>\n",
       "<style scoped>\n",
       "    .dataframe tbody tr th:only-of-type {\n",
       "        vertical-align: middle;\n",
       "    }\n",
       "\n",
       "    .dataframe tbody tr th {\n",
       "        vertical-align: top;\n",
       "    }\n",
       "\n",
       "    .dataframe thead th {\n",
       "        text-align: right;\n",
       "    }\n",
       "</style>\n",
       "<table border=\"1\" class=\"dataframe\">\n",
       "  <thead>\n",
       "    <tr style=\"text-align: right;\">\n",
       "      <th></th>\n",
       "      <th>gml_id</th>\n",
       "      <th>objectid</th>\n",
       "      <th>lithstrtno</th>\n",
       "      <th>code</th>\n",
       "      <th>unitname</th>\n",
       "      <th>gswastatus</th>\n",
       "      <th>rank</th>\n",
       "      <th>descriptn</th>\n",
       "      <th>parentcode</th>\n",
       "      <th>parentname</th>\n",
       "      <th>...</th>\n",
       "      <th>max_age_ma</th>\n",
       "      <th>maxuncerty</th>\n",
       "      <th>min_age_ma</th>\n",
       "      <th>minuncerty</th>\n",
       "      <th>max_age_da</th>\n",
       "      <th>min_age_da</th>\n",
       "      <th>extract_da</th>\n",
       "      <th>shape_leng</th>\n",
       "      <th>shape_area</th>\n",
       "      <th>geometry</th>\n",
       "    </tr>\n",
       "  </thead>\n",
       "  <tbody>\n",
       "    <tr>\n",
       "      <th>4043</th>\n",
       "      <td>geol_500k.18062</td>\n",
       "      <td>18064</td>\n",
       "      <td>4758</td>\n",
       "      <td>A-_sc-xsta-sc</td>\n",
       "      <td>Scotty Creek Formation</td>\n",
       "      <td>Processing Pending</td>\n",
       "      <td>Formation</td>\n",
       "      <td>Arkosic sandstone with subordinate conglomerat...</td>\n",
       "      <td>TOL</td>\n",
       "      <td>_Top Of Litho-Stratigraphic Order</td>\n",
       "      <td>...</td>\n",
       "      <td>± 5</td>\n",
       "      <td>2640</td>\n",
       "      <td>0.0</td>\n",
       "      <td>Isotopic</td>\n",
       "      <td>Inferred</td>\n",
       "      <td>S Wyche</td>\n",
       "      <td>2016-06-30</td>\n",
       "      <td>0.970409</td>\n",
       "      <td>0.008701</td>\n",
       "      <td>POLYGON ((847927.631 6928966.607, 848101.301 6...</td>\n",
       "    </tr>\n",
       "  </tbody>\n",
       "</table>\n",
       "<p>1 rows × 61 columns</p>\n",
       "</div>"
      ],
      "text/plain": [
       "               gml_id  objectid  lithstrtno           code  \\\n",
       "4043  geol_500k.18062     18064        4758  A-_sc-xsta-sc   \n",
       "\n",
       "                    unitname          gswastatus       rank  \\\n",
       "4043  Scotty Creek Formation  Processing Pending  Formation   \n",
       "\n",
       "                                              descriptn parentcode  \\\n",
       "4043  Arkosic sandstone with subordinate conglomerat...        TOL   \n",
       "\n",
       "                             parentname  ... max_age_ma maxuncerty min_age_ma  \\\n",
       "4043  _Top Of Litho-Stratigraphic Order  ...        ± 5       2640        0.0   \n",
       "\n",
       "     minuncerty max_age_da min_age_da  extract_da shape_leng shape_area  \\\n",
       "4043   Isotopic   Inferred    S Wyche  2016-06-30   0.970409   0.008701   \n",
       "\n",
       "                                               geometry  \n",
       "4043  POLYGON ((847927.631 6928966.607, 848101.301 6...  \n",
       "\n",
       "[1 rows x 61 columns]"
      ]
     },
     "execution_count": 28,
     "metadata": {},
     "output_type": "execute_result"
    }
   ],
   "source": [
    "geol_clip[geol_clip[c_l['max']] == '± 5']"
   ]
  },
  {
   "cell_type": "code",
   "execution_count": 30,
   "metadata": {},
   "outputs": [
    {
     "data": {
      "text/plain": [
       "nan"
      ]
     },
     "execution_count": 30,
     "metadata": {},
     "output_type": "execute_result"
    }
   ],
   "source": [
    "max_.iloc[4043]"
   ]
  },
  {
   "cell_type": "code",
   "execution_count": null,
   "metadata": {},
   "outputs": [],
   "source": []
  }
 ],
 "metadata": {
  "kernelspec": {
   "display_name": "Python 3",
   "language": "python",
   "name": "python3"
  },
  "language_info": {
   "codemirror_mode": {
    "name": "ipython",
    "version": 3
   },
   "file_extension": ".py",
   "mimetype": "text/x-python",
   "name": "python",
   "nbconvert_exporter": "python",
   "pygments_lexer": "ipython3",
   "version": "3.7.9"
  }
 },
 "nbformat": 4,
 "nbformat_minor": 4
}
